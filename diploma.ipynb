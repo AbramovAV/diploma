{
  "nbformat": 4,
  "nbformat_minor": 0,
  "metadata": {
    "colab": {
      "name": "diploma.ipynb",
      "version": "0.3.2",
      "views": {},
      "default_view": {},
      "provenance": [],
      "private_outputs": true,
      "collapsed_sections": []
    },
    "kernelspec": {
      "name": "python3",
      "display_name": "Python 3"
    },
    "accelerator": "GPU"
  },
  "cells": [
    {
      "metadata": {
        "id": "QQDNJLFntuV2",
        "colab_type": "code",
        "colab": {
          "autoexec": {
            "startup": false,
            "wait_interval": 0
          }
        }
      },
      "cell_type": "code",
      "source": [
        "from google.colab import files\n",
        "files.upload()\n",
        "# !mkdir Images Annotations model\n",
        "# !mv *.jpg Images\n",
        "# !mv *.xml Annotations\n",
        "# !pip install shapely"
      ],
      "execution_count": 0,
      "outputs": []
    },
    {
      "metadata": {
        "id": "Xqfpy72DqBEH",
        "colab_type": "code",
        "colab": {
          "autoexec": {
            "startup": false,
            "wait_interval": 0
          }
        }
      },
      "cell_type": "code",
      "source": [
        "import numpy as np\n",
        "import xml.etree.ElementTree as ET\n",
        "import tensorflow as tf\n",
        "import os\n",
        "from scipy.signal import medfilt\n",
        "import skimage.io\n",
        "import skimage.color\n",
        "from itertools import cycle\n",
        "from sklearn import metrics\n",
        "from random import shuffle\n",
        "from matplotlib.path import Path\n",
        "import matplotlib.pyplot as plt\n",
        "from shapely.geometry import Point\n",
        "from shapely.geometry.polygon import Polygon\n",
        "%matplotlib inline"
      ],
      "execution_count": 0,
      "outputs": []
    },
    {
      "metadata": {
        "id": "PNEFIPZfzU3E",
        "colab_type": "text"
      },
      "cell_type": "markdown",
      "source": [
        "В папке Annotations хранятся xml файлы с разметкой, а в папке Images - ионограммы.\n",
        "Напишем функции для извлечения полигонов с разметкой и проверки принадлежности пикселя к определенному полигону."
      ]
    },
    {
      "metadata": {
        "id": "LyEXP0ViqDR6",
        "colab_type": "code",
        "colab": {
          "autoexec": {
            "startup": false,
            "wait_interval": 0
          }
        }
      },
      "cell_type": "code",
      "source": [
        "def labeling(name):    \n",
        "    tree = ET.parse(r\"Annotations/\"+name[:-4]+\".xml\")\n",
        "    root = tree.getroot()\n",
        "    f_layer_points = []\n",
        "    e_layer_points = []\n",
        "    for child in root.findall('object'):\n",
        "        if child.find('name').text == 'f-layer':\n",
        "            for points in child.find(\"polygon\").findall(\"pt\"):\n",
        "                f_layer_points.append((points[0].text,points[1].text))\n",
        "        elif child.find('name').text == 'e-layer':\n",
        "            for points in child.find(\"polygon\").findall(\"pt\"):\n",
        "                e_layer_points.append((points[0].text,points[1].text))\n",
        "    return np.array(f_layer_points,dtype = 'float32'),np.array(e_layer_points,dtype = 'float32')"
      ],
      "execution_count": 0,
      "outputs": []
    },
    {
      "metadata": {
        "id": "BoIEUqP7qHrk",
        "colab_type": "code",
        "colab": {
          "autoexec": {
            "startup": false,
            "wait_interval": 0
          }
        }
      },
      "cell_type": "code",
      "source": [
        "def point_in_polygon(coords,f_layer,e_layer):\n",
        "    try:\n",
        "        polygon_f = Polygon(np.array(f_layer,dtype='float32'))\n",
        "    except AssertionError:\n",
        "        f_layers = [(0.,0.),(1.,0.),(0.,1.)]#оказывается слой f тоже, видимо забыл\n",
        "        polygon_f = Polygon(f_layers)\n",
        "    try:\n",
        "        polygon_e = Polygon(np.array(e_layer,dtype='float32'))#на некоторых ионограммах слой E не отмечен\n",
        "    except AssertionError:                                    #следовательно e_layer был пуст\n",
        "        e_layers = [(0.,0.),(1.,0.),(0.,1.)]\n",
        "        polygon_e = Polygon(e_layers)\n",
        "    point = Point(coords)\n",
        "    if polygon_f.contains(point) == True:\n",
        "        return [0,1]\n",
        "    elif polygon_e.contains(point) == True:\n",
        "        return [0,1]\n",
        "    else:\n",
        "        return [1,0]"
      ],
      "execution_count": 0,
      "outputs": []
    },
    {
      "metadata": {
        "id": "uXNWvNEAqK90",
        "colab_type": "code",
        "colab": {
          "autoexec": {
            "startup": false,
            "wait_interval": 0
          }
        }
      },
      "cell_type": "code",
      "source": [
        "def padding(image):#функция для прибавки нулей вдоль границы изображения\n",
        "    new_image = np.zeros((image.shape[0]+80,image.shape[1]+80))\n",
        "    new_image[40:40+image.shape[0],40:40+image.shape[1]] = image\n",
        "    return new_image"
      ],
      "execution_count": 0,
      "outputs": []
    },
    {
      "metadata": {
        "id": "8NurCh-sqNl3",
        "colab_type": "code",
        "colab": {
          "autoexec": {
            "startup": false,
            "wait_interval": 0
          }
        }
      },
      "cell_type": "code",
      "source": [
        "def batch(image,i,j):#формат изображения 329х240\n",
        "    image1 = image[i:i+81,j:j+81]#выделяет кусочек изображения для подачи на вход сети\n",
        "    return image1"
      ],
      "execution_count": 0,
      "outputs": []
    },
    {
      "metadata": {
        "id": "SGn2Qnqazk72",
        "colab_type": "text"
      },
      "cell_type": "markdown",
      "source": [
        "Теперь напишем код для сверточной нейронной сети. Для сегментации изображения используем Patch-based подход. Сеть будет обучаться на изображениях размера 81х81. Ниже приведены функции, используемые для удобства при написании кода нейронной сети."
      ]
    },
    {
      "metadata": {
        "id": "Wg0okYAcqP57",
        "colab_type": "code",
        "colab": {
          "autoexec": {
            "startup": false,
            "wait_interval": 0
          }
        }
      },
      "cell_type": "code",
      "source": [
        "def bias(shape):#смещения\n",
        "    return tf.Variable(tf.constant(0.1,shape=shape))\n",
        "\n",
        "def weight(shape):#веса\n",
        "    return tf.Variable(tf.truncated_normal(shape,stddev=0.1))\n",
        "\n",
        "def conv2d(x,W):#операция свертки\n",
        "    return tf.nn.conv2d(x,W,strides=[1,1,1,1],padding='SAME')\n",
        "\n",
        "def max_pool(h):# операция выбора с усреднением\n",
        "    return tf.nn.max_pool(h,ksize = [1,2,2,1],strides = [1,2,2,1],padding='SAME')"
      ],
      "execution_count": 0,
      "outputs": []
    },
    {
      "metadata": {
        "id": "GSoMiUBMqR9f",
        "colab_type": "code",
        "colab": {
          "autoexec": {
            "startup": false,
            "wait_interval": 0
          }
        }
      },
      "cell_type": "code",
      "source": [
        "with tf.device('/gpu:0'):    #основой сети послужил фрагмент из туториала tensorflow\n",
        "  x = tf.placeholder(tf.float32,shape = [None,81,81],name='x')\n",
        "  y_ = tf.placeholder(tf.float32,shape = [None,2],name='y_')\n",
        "  x_image = tf.reshape(x,[-1,81,81,1],name='x_image')\n",
        "\n",
        "  weight_1 = weight([4,4,1,40])\n",
        "  bias_1 = bias([40])\n",
        "  h_conv1 = tf.nn.relu(conv2d(x_image,weight_1)+bias_1,name='h_conv1')\n",
        "  h_pool1 = max_pool(h_conv1)\n",
        "\n",
        "\n",
        "  weight_2 = weight([5,5,40,40])\n",
        "  bias_2 = bias([40])\n",
        "  h_conv2 = tf.nn.relu(conv2d(h_pool1,weight_2)+bias_2,name='h_conv2')\n",
        "  h_pool2 = max_pool(h_conv2)\n",
        "\n",
        "  weight_3 = weight([4,4,40,40])\n",
        "  bias_3 = bias([40])\n",
        "  h_conv3 = tf.nn.relu(conv2d(h_pool2,weight_3)+bias_3,name='h_conv3')\n",
        "  h_pool3 = max_pool(h_conv3)\n",
        "\n",
        "\n",
        "  w_fc1 = weight([11*11*40,100])\n",
        "  b_fc1 = bias([100])\n",
        "  h_pool4_flat = tf.reshape(h_pool3,[-1,11*11*40])\n",
        "  h_fc1 = tf.nn.relu(tf.matmul(h_pool4_flat,w_fc1)+b_fc1,name='h_fc1')\n",
        "\n",
        "\n",
        "  w_fc2 = weight([100,2])\n",
        "  b_fc2 = bias([2])\n",
        "  h_fc2 = tf.matmul(h_fc1,w_fc2)+b_fc2\n",
        "\n",
        "  softmax = tf.nn.softmax(h_fc2,name='softmax')\n",
        "\n",
        "  cross_entropy = tf.reduce_mean(tf.nn.softmax_cross_entropy_with_logits(labels=y_, logits=h_fc2),name='cross_entropy')#функционал ошибки\n",
        "  train_step = tf.train.AdamOptimizer(1e-4).minimize(cross_entropy)#оптимизатор"
      ],
      "execution_count": 0,
      "outputs": []
    },
    {
      "metadata": {
        "id": "cRg3hPvSqaq4",
        "colab_type": "code",
        "colab": {
          "autoexec": {
            "startup": false,
            "wait_interval": 0
          }
        }
      },
      "cell_type": "code",
      "source": [
        "with tf.Session() as sess:\n",
        "    sess.run(tf.global_variables_initializer())\n",
        "    ionograms = os.listdir(r\"Images/\")\n",
        "    shuffle(ionograms)#считываем все файлы из директории и перемешиваем\n",
        "    train_set = ionograms[0:801]\n",
        "    test_set = ionograms[801:]#тренировочный и тестовый датасеты\n",
        "    pool = cycle(train_set)#создаем цикличный список из файлов\n",
        "    saver = tf.train.Saver()\n",
        "    for k in range(85):\n",
        "        print(\"Step: {}\".format(k+1))\n",
        "        ionogram = next(pool)\n",
        "        image = skimage.io.imread(r\"Images/\"+ionogram)[:,:,1]*(-1)\n",
        "#         image = skimage.io.imread(r\"Images/\"+ionogram)\n",
        "        f_layer,e_layer = labeling(ionogram)\n",
        "        try:\n",
        "          f_layer[:,1] = 238-f_layer[:,1]#меняем систему координат\n",
        "        except IndexError:\n",
        "          continue\n",
        "        if len(e_layer)!=0:\n",
        "          e_layer[:,1] = 238-e_layer[:,1]\n",
        "        padded_image = padding(image)#добавляем нулей с краёв изображения\n",
        "        background = []\n",
        "        layer = []\n",
        "        for i in range(image.shape[0]):#добавляем координаты точек из фона и из слоев\n",
        "            for j in range(image.shape[1]):\n",
        "                  if point_in_polygon((j,238-i),f_layer,e_layer)[0]==1:\n",
        "                    background.append((i,j))#из фона\n",
        "                  elif point_in_polygon((j,238-i),f_layer,e_layer)[1]==1:\n",
        "                    layer.append((i,j))#из слоя\n",
        "        relation = len(background)//len(layer)#отношение количества пикселей из слоя и пикселей из фона(для балансировки выборки)\n",
        "        print(len(layer),len(background))\n",
        "        for index in range(len(layer)):\n",
        "          labels = []\n",
        "          images_train = []\n",
        "          images_train.append(batch(padded_image,*layer[index]))\n",
        "          images_train.append(batch(padded_image,*background[index*relation]))\n",
        "          layer_coords = layer[index][1],238-layer[index][0]\n",
        "          background_coords = background[index*relation][1],238-background[index*relation][0]\n",
        "          labels.append(point_in_polygon(layer_coords,f_layer,e_layer))\n",
        "          labels.append(point_in_polygon(background_coords,f_layer,e_layer))\n",
        "          train_step.run(feed_dict={x:images_train,y_:labels})\n",
        "        saver.save(sess,r'model/diploma',global_step = k)#сохраняем модель для дальнейшего использования"
      ],
      "execution_count": 0,
      "outputs": []
    },
    {
      "metadata": {
        "id": "RZ2REG268F3-",
        "colab_type": "code",
        "colab": {
          "autoexec": {
            "startup": false,
            "wait_interval": 0
          }
        }
      },
      "cell_type": "code",
      "source": [
        "sess2 = tf.Session()\n",
        "saver = tf.train.import_meta_graph('model/diploma-84.meta')#восстанавливаем модель\n",
        "saver.restore(sess2,r'model/diploma-84')\n",
        "image = skimage.io.imread(r\"Images/\"+test_set[6])[:,:,1]*(-1)\n",
        "padded_image = np.array(padding(image),dtype='float32')\n",
        "result = np.zeros((image.shape[0],image.shape[1]))\n",
        "f_layer,e_layer = labeling(train_set[i])\n",
        "y_pred = []\n",
        "y_true = []\n",
        "for i in range(image.shape[0]):\n",
        "    print(\"Step: \",i)\n",
        "    for j in range(image.shape[1]):\n",
        "        label = point_in_polygon((j,239-i),f_layer,e_layer)\n",
        "        feed_dict = {x: np.reshape(padded_image[i:i+81,j:j+81],(1,81,81))}\n",
        "        prediction = sess2.run(softmax,feed_dict)\n",
        "        #print(prediction)\n",
        "        if np.argwhere(prediction[0]==np.max(prediction[0]))==0:\n",
        "          result[i,j] = 0\n",
        "        elif np.argwhere(prediction[0]==np.max(prediction[0]))==1 & (prediction[0,1]<0.8)==True:\n",
        "          result[i,j] = 0\n",
        "        else:\n",
        "          result[i,j] = 1\n",
        "        y_pred.append(result[i,j])\n",
        "        y_true.append(label[0])\n",
        "# print(len(y_pred),len(y_true))\n",
        "prec = metrics.precision_score(y_true,y_pred)#считаем точность\n",
        "rec = metrics.recall_score(y_true,y_pred)#считаем полноту(пока получается не очень)\n",
        "print(prec,rec)\n",
        "sess2.close()\n",
        "skimage.io.imshow(result,cmap = plt.cm.gray)"
      ],
      "execution_count": 0,
      "outputs": []
    }
  ]
}